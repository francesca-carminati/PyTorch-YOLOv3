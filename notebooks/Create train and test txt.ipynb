{
 "cells": [
  {
   "cell_type": "code",
   "execution_count": 58,
   "id": "11275cad",
   "metadata": {},
   "outputs": [],
   "source": [
    "import os\n",
    "import pandas as pd"
   ]
  },
  {
   "cell_type": "code",
   "execution_count": 59,
   "id": "e93dbd4c",
   "metadata": {},
   "outputs": [],
   "source": [
    "DATA_PATH_TEST = '/mnt/storage/data/object_detection/Hard_Hat_Workers/test/images'\n",
    "DATA_PATH_TRAIN = '/mnt/storage/data/object_detection/Hard_Hat_Workers/train/images'"
   ]
  },
  {
   "cell_type": "code",
   "execution_count": 60,
   "id": "f24be290",
   "metadata": {},
   "outputs": [],
   "source": [
    "MAIN_PATH = '/home/francesca.carminati/repo/PyTorch-YOLOv3/data/custom'\n",
    "TRAIN_FILE = 'train.txt'\n",
    "TEST_FILE = 'valid.txt'"
   ]
  },
  {
   "cell_type": "code",
   "execution_count": 61,
   "id": "6dbdf916",
   "metadata": {},
   "outputs": [],
   "source": [
    "from os import listdir\n",
    "from os.path import isfile, join\n",
    "images_test = [f for f in listdir(DATA_PATH_TEST) if isfile(join(DATA_PATH_TEST, f))]\n",
    "images_train = [f for f in listdir(DATA_PATH_TRAIN) if isfile(join(DATA_PATH_TRAIN, f))]"
   ]
  },
  {
   "cell_type": "code",
   "execution_count": 62,
   "id": "6eecb2c2",
   "metadata": {},
   "outputs": [],
   "source": [
    "PATH = 'data/custom/images'"
   ]
  },
  {
   "cell_type": "code",
   "execution_count": 63,
   "id": "511c1700",
   "metadata": {},
   "outputs": [],
   "source": [
    "images_train = [os.path.join(PATH,element) for element in images_train]\n",
    "images_test = [os.path.join(PATH,element) for element in images_test]"
   ]
  },
  {
   "cell_type": "code",
   "execution_count": 64,
   "id": "654b3f4f",
   "metadata": {},
   "outputs": [],
   "source": [
    "train_text = open(os.path.join(MAIN_PATH,TRAIN_FILE), \"w\")\n",
    "for element in images_train:\n",
    "    train_text.write(element + \"\\n\")\n",
    "train_text.close()"
   ]
  },
  {
   "cell_type": "code",
   "execution_count": 65,
   "id": "e889d6e8",
   "metadata": {},
   "outputs": [],
   "source": [
    "test_text = open(os.path.join(MAIN_PATH,TEST_FILE), \"w\")\n",
    "for element in images_train:\n",
    "    test_text.write(element + \"\\n\")\n",
    "test_text.close()"
   ]
  },
  {
   "cell_type": "code",
   "execution_count": null,
   "id": "cb9a8b75",
   "metadata": {},
   "outputs": [],
   "source": []
  }
 ],
 "metadata": {
  "kernelspec": {
   "display_name": "Python 3",
   "language": "python",
   "name": "python3"
  },
  "language_info": {
   "codemirror_mode": {
    "name": "ipython",
    "version": 3
   },
   "file_extension": ".py",
   "mimetype": "text/x-python",
   "name": "python",
   "nbconvert_exporter": "python",
   "pygments_lexer": "ipython3",
   "version": "3.7.10"
  }
 },
 "nbformat": 4,
 "nbformat_minor": 5
}
